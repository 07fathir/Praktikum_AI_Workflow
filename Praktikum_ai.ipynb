{
  "nbformat": 4,
  "nbformat_minor": 0,
  "metadata": {
    "colab": {
      "provenance": [],
      "authorship_tag": "ABX9TyOtQDP8kCDBVSFEwi7silFP",
      "include_colab_link": true
    },
    "kernelspec": {
      "name": "python3",
      "display_name": "Python 3"
    },
    "language_info": {
      "name": "python"
    }
  },
  "cells": [
    {
      "cell_type": "markdown",
      "metadata": {
        "id": "view-in-github",
        "colab_type": "text"
      },
      "source": [
        "<a href=\"https://colab.research.google.com/github/07fathir/Praktikum_AI_Workflow/blob/main/Praktikum_ai.ipynb\" target=\"_parent\"><img src=\"https://colab.research.google.com/assets/colab-badge.svg\" alt=\"Open In Colab\"/></a>"
      ]
    },
    {
      "cell_type": "code",
      "source": [
        "import pandas as pd\n",
        "# Buat data penjualan toko\n",
        "data = {\n",
        "    \"Tanggal\": [\"2025-02-01\", \"2025-02-02\", \"2025-02-02\", \"2025-02-03\", \"2025-02-04\", \"2025-02-04\", \"2025-02-05\", \"2025-02-05\", \"2025-02-06\", \"2025-02-07\"],\n",
        "    \"Produk\": [\"Beras\", \"Minyak Goreng\", \"Gula\", \"Telur\", \"Minuman\",\"Mie Goreng\", \"Snack\", \"Susu\", \"Kecap\", \"Roko\"],\n",
        "    \"Jumlah Terjual\": [10, 7, 18, 9, 29, 15, 14, 11, 8, 20],\n",
        "    \"Stok\": [20, 23, 12, 21, 1, 15, 16, 19, 22, 10],\n",
        "    \"Harga Satuan\": [12000, 15000, 13000, 11000, 14000, 4000, 2000, 3000, 5000, 28000]\n",
        "}\n",
        "\n",
        "# Simpan dalam DataFrame\n",
        "df = pd.DataFrame(data)\n",
        "\n",
        "# Simpan sebagai file CSV\n",
        "df.to_csv(\"data_penjualan.csv\", index=False)\n",
        "\n"
      ],
      "metadata": {
        "id": "3t4JMfUS1Ra5"
      },
      "execution_count": 44,
      "outputs": []
    },
    {
      "cell_type": "code",
      "source": [
        "#membaca file CSV\n",
        "df =pd.read_csv(\"data_penjualan.csv\")\n",
        "\n",
        "#menampilkan 5 data pertama\n",
        "print(df)"
      ],
      "metadata": {
        "colab": {
          "base_uri": "https://localhost:8080/"
        },
        "id": "WmvBAeYo6C1J",
        "outputId": "03d3c521-2025-436d-919d-ecbff9729199"
      },
      "execution_count": 46,
      "outputs": [
        {
          "output_type": "stream",
          "name": "stdout",
          "text": [
            "      Tanggal         Produk  Jumlah Terjual  Stok  Harga Satuan\n",
            "0  2025-02-01          Beras              10    20         12000\n",
            "1  2025-02-02  Minyak Goreng               7    23         15000\n",
            "2  2025-02-02           Gula              18    12         13000\n",
            "3  2025-02-03          Telur               9    21         11000\n",
            "4  2025-02-04        Minuman              29     1         14000\n",
            "5  2025-02-04     Mie Goreng              15    15          4000\n",
            "6  2025-02-05          Snack              14    16          2000\n",
            "7  2025-02-05           Susu              11    19          3000\n",
            "8  2025-02-06          Kecap               8    22          5000\n",
            "9  2025-02-07           Roko              20    10         28000\n"
          ]
        }
      ]
    },
    {
      "cell_type": "code",
      "source": [
        "#membaca file CSV\n",
        "df =pd.read_csv(\"data_penjualan.csv\")\n",
        "\n",
        "#menampilkan 5 data pertama\n",
        "print(df.head())"
      ],
      "metadata": {
        "colab": {
          "base_uri": "https://localhost:8080/"
        },
        "id": "gWSQL8IL1bEY",
        "outputId": "439caa69-4d11-4304-e1fb-6379960564fa"
      },
      "execution_count": 37,
      "outputs": [
        {
          "output_type": "stream",
          "name": "stdout",
          "text": [
            "      Tanggal         Produk  Jumlah Terjual  Stok  Harga Satuan\n",
            "0  2025-02-01          Beras              10    20         12000\n",
            "1  2025-02-02  Minyak Goreng               7    23         15000\n",
            "2  2025-02-02           Gula              18    12         13000\n",
            "3  2025-02-03          Telur               9    21         11000\n",
            "4  2025-02-04        Minuman              29     1         14000\n"
          ]
        }
      ]
    },
    {
      "cell_type": "code",
      "source": [
        "#cek apa ada data yang kosong\n",
        "print(df.isnull().sum())\n",
        "\n",
        "#konvers kolom tanggal ke format datetime\n",
        "df[\"Tanggal\"]=pd.to_datetime(df[\"Tanggal\"])\n",
        "df[\"Total Penjualan\"]=df[\"Jumlah Terjual\"] *df[\"Harga Satuan\"]\n",
        "df[\"Keuntungan\"]=df[\"Total Penjualan\"] - (df[\"Jumlah Terjual\"]*10000)\n",
        "\n",
        "print(df.head())"
      ],
      "metadata": {
        "colab": {
          "base_uri": "https://localhost:8080/"
        },
        "id": "-uz8wgtR1epp",
        "outputId": "4c75e21f-0cc5-4e35-d8b4-f6c9f5d8b223"
      },
      "execution_count": 38,
      "outputs": [
        {
          "output_type": "stream",
          "name": "stdout",
          "text": [
            "Tanggal           0\n",
            "Produk            0\n",
            "Jumlah Terjual    0\n",
            "Stok              0\n",
            "Harga Satuan      0\n",
            "dtype: int64\n",
            "     Tanggal         Produk  Jumlah Terjual  Stok  Harga Satuan  \\\n",
            "0 2025-02-01          Beras              10    20         12000   \n",
            "1 2025-02-02  Minyak Goreng               7    23         15000   \n",
            "2 2025-02-02           Gula              18    12         13000   \n",
            "3 2025-02-03          Telur               9    21         11000   \n",
            "4 2025-02-04        Minuman              29     1         14000   \n",
            "\n",
            "   Total Penjualan  Keuntungan  \n",
            "0           120000       20000  \n",
            "1           105000       35000  \n",
            "2           234000       54000  \n",
            "3            99000        9000  \n",
            "4           406000      116000  \n"
          ]
        }
      ]
    },
    {
      "cell_type": "code",
      "source": [
        "!pip install scikit-learn"
      ],
      "metadata": {
        "colab": {
          "base_uri": "https://localhost:8080/"
        },
        "id": "uH6QejLH1ltP",
        "outputId": "3e3bafac-8bd0-42a0-d3d0-e56d82fa5919"
      },
      "execution_count": 39,
      "outputs": [
        {
          "output_type": "stream",
          "name": "stdout",
          "text": [
            "Requirement already satisfied: scikit-learn in /usr/local/lib/python3.11/dist-packages (1.6.1)\n",
            "Requirement already satisfied: numpy>=1.19.5 in /usr/local/lib/python3.11/dist-packages (from scikit-learn) (1.26.4)\n",
            "Requirement already satisfied: scipy>=1.6.0 in /usr/local/lib/python3.11/dist-packages (from scikit-learn) (1.13.1)\n",
            "Requirement already satisfied: joblib>=1.2.0 in /usr/local/lib/python3.11/dist-packages (from scikit-learn) (1.4.2)\n",
            "Requirement already satisfied: threadpoolctl>=3.1.0 in /usr/local/lib/python3.11/dist-packages (from scikit-learn) (3.5.0)\n"
          ]
        }
      ]
    },
    {
      "cell_type": "code",
      "source": [
        "from sklearn.model_selection import train_test_split\n",
        "from sklearn.tree import DecisionTreeClassifier\n",
        "from sklearn.metrics import accuracy_score\n",
        "\n",
        "# Pilih fitur (x) dan target (y)\n",
        "x = df[[\"Jumlah Terjual\", \"Stok\"]]\n",
        "y = (df[\"Stok\"] < 5).astype(int) # 1 jika stok kurang dari 5, 0 jika cukup\n",
        "\n",
        "# Split data menjadi train dan test\n",
        "x_train, x_test, y_train, y_test = train_test_split(x, y, test_size=0.2, random_state=42)\n",
        "\n",
        "# Buat model Decision Tree\n",
        "model =DecisionTreeClassifier()\n",
        "model.fit(x_train, y_train)\n",
        "\n",
        "# Evaluasi model\n",
        "y_pred =model.predict(x_test)\n",
        "print(\"Akurasi Model: \", accuracy_score(y_test, y_pred))"
      ],
      "metadata": {
        "colab": {
          "base_uri": "https://localhost:8080/"
        },
        "id": "QATPAP2O1mkI",
        "outputId": "780168f4-1433-4184-8900-a9454d6817af"
      },
      "execution_count": 40,
      "outputs": [
        {
          "output_type": "stream",
          "name": "stdout",
          "text": [
            "Akurasi Model:  1.0\n"
          ]
        }
      ]
    },
    {
      "cell_type": "code",
      "source": [
        "produk_baru=[[8,3]]\n",
        "prediksi=model.predict(produk_baru)\n",
        "\n",
        "if prediksi[0]==1:\n",
        "  print(\"produk perlu di restock\")\n",
        "else:\n",
        "  print(\"stock cukup\")"
      ],
      "metadata": {
        "colab": {
          "base_uri": "https://localhost:8080/"
        },
        "id": "n52dgUYf1qJg",
        "outputId": "5948f1bd-0a24-4d2e-f5b9-c6d721d0d26e"
      },
      "execution_count": 41,
      "outputs": [
        {
          "output_type": "stream",
          "name": "stdout",
          "text": [
            "produk perlu di restock\n"
          ]
        },
        {
          "output_type": "stream",
          "name": "stderr",
          "text": [
            "/usr/local/lib/python3.11/dist-packages/sklearn/utils/validation.py:2739: UserWarning: X does not have valid feature names, but DecisionTreeClassifier was fitted with feature names\n",
            "  warnings.warn(\n"
          ]
        }
      ]
    },
    {
      "cell_type": "code",
      "source": [
        "import matplotlib.pyplot as plt\n",
        "plt.scatter (df[\"Jumlah Terjual\"], df[\"Stok\"], c=df[\"Keuntungan\"], cmap=\"coolwarm\")\n",
        "plt.xlabel(\"Jumlah Terjual\")\n",
        "plt.ylabel(\"Stok\")\n",
        "plt.title(\"Analisis Penjualan dan Stok\")\n",
        "plt.colorbar (label=\"Keuntungan\")\n",
        "plt.show()"
      ],
      "metadata": {
        "colab": {
          "base_uri": "https://localhost:8080/",
          "height": 472
        },
        "id": "JN6kDG_X1sqQ",
        "outputId": "48ba0769-5a73-4e16-fb58-b7142f63362b"
      },
      "execution_count": 42,
      "outputs": [
        {
          "output_type": "display_data",
          "data": {
            "text/plain": [
              "<Figure size 640x480 with 2 Axes>"
            ],
            "image/png": "[encoded data removed]"
          },
          "metadata": {}
        }
      ]
    }
  ]
}